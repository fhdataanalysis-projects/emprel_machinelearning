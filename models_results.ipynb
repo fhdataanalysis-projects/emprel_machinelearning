{
 "cells": [
  {
   "cell_type": "code",
   "execution_count": null,
   "metadata": {},
   "outputs": [],
   "source": [
    "import json\n",
    "import pandas as pd\n",
    "import matplotlib.pyplot as plt\n",
    "import seaborn as sns\n",
    "\n",
    "\n",
    "def plot_top5_configuracoes(json_path, metric='R2_Val'):\n",
    "    \"\"\"\n",
    "    Lê um arquivo JSON de resultados, seleciona as 5 melhores configurações e plota as métricas.\n",
    "    \n",
    "    Parâmetros:\n",
    "    -----------\n",
    "    json_path : str\n",
    "        Caminho para o arquivo JSON.\n",
    "    metric : str\n",
    "        Métrica usada para definir a \"melhor\" configuração (default: 'R2_Val').\n",
    "        Pode ser: 'R2_Val', 'RMSE_Val', 'MAE_Val'.\n",
    "    \"\"\"\n",
    "    \n",
    "    # Carregar dados JSON\n",
    "    with open(json_path, 'r') as f:\n",
    "        data = json.load(f)\n",
    "    \n",
    "    df = pd.DataFrame(data)\n",
    "    \n",
    "    # Ordenar (para RMSE ou MAE, quanto menor melhor; para R², quanto maior melhor)\n",
    "    if metric in ['RMSE_Val', 'MAE_Val']:\n",
    "        df_sorted = df.sort_values(by=metric, ascending=True).head(5)\n",
    "    else:\n",
    "        df_sorted = df.sort_values(by=metric, ascending=False).head(5)\n",
    "    \n",
    "    # Melhor configuração\n",
    "    best_config_idx = df_sorted[metric].idxmax() if metric == 'R2_Val' else df_sorted[metric].idxmin()\n",
    "    \n",
    "    # Criar label para exibir os parâmetros no gráfico\n",
    "    df_sorted['Label'] = df_sorted['Configuracao'].apply(lambda x: str(x))\n",
    "    \n",
    "    # Plot\n",
    "    plt.figure(figsize=(10, 6))\n",
    "    sns.set(style=\"whitegrid\")\n",
    "    \n",
    "    # Plot das barras\n",
    "    bars = sns.barplot(data=df_sorted, x=metric, y='Label', palette='viridis')\n",
    "    \n",
    "    # Destacar melhor configuração em outra cor\n",
    "    for i, bar in enumerate(bars.patches):\n",
    "        if df_sorted.index[i] == best_config_idx:\n",
    "            bar.set_color('orange')\n",
    "    \n",
    "    plt.title(f\"Top 5 Configurações - {df_sorted.iloc[0]['Modelo']} ({metric})\", fontsize=14)\n",
    "    plt.xlabel(metric)\n",
    "    plt.ylabel(\"Configurações\")\n",
    "    plt.tight_layout()\n",
    "    plt.show()\n"
   ]
  },
  {
   "cell_type": "code",
   "execution_count": null,
   "metadata": {},
   "outputs": [],
   "source": []
  }
 ],
 "metadata": {
  "kernelspec": {
   "display_name": "Python 3",
   "language": "python",
   "name": "python3"
  },
  "language_info": {
   "name": "python",
   "version": "3.12.7"
  }
 },
 "nbformat": 4,
 "nbformat_minor": 2
}

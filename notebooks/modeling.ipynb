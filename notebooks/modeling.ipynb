{
 "cells": [
  {
   "cell_type": "code",
   "execution_count": null,
   "metadata": {},
   "outputs": [],
   "source": [
    "# Imports principais\n",
    "import pandas as pd\n",
    "import numpy as np\n",
    "\n",
    "# Modelos\n",
    "from sklearn.model_selection import GridSearchCV\n",
    "from sklearn.linear_model import LinearRegression\n",
    "from sklearn.ensemble import RandomForestRegressor\n",
    "from sklearn.neighbors import KNeighborsRegressor\n",
    "from sklearn.neural_network import MLPRegressor\n",
    "from xgboost import XGBRegressor\n",
    "from lightgbm import LGBMRegressor\n",
    "\n",
    "# Métricas\n",
    "from sklearn.metrics import r2_score, mean_squared_error, mean_absolute_error\n",
    "\n",
    "# Visualização\n",
    "import matplotlib.pyplot as plt\n",
    "import seaborn as sns"
   ]
  },
  {
   "cell_type": "code",
   "execution_count": null,
   "metadata": {},
   "outputs": [],
   "source": [
    "import json\n",
    "\n",
    "def treinar_e_avaliar(modelo, nome_modelo, parametros, x_train, y_train, x_val, y_val):\n",
    "    \"\"\"\n",
    "    Treina e avalia um modelo com GridSearchCV e salva métricas para cada configuração testada em um arquivo JSON.\n",
    "    \"\"\"\n",
    "    gs = GridSearchCV(modelo, parametros, cv=5, scoring='r2', n_jobs=-1, return_train_score=True)\n",
    "    gs.fit(x_train, y_train)\n",
    "    \n",
    "    # Lista para armazenar os resultados temporariamente\n",
    "    resultados = []\n",
    "\n",
    "    # Armazena cada configuração rodada (não apenas o melhor)\n",
    "    for i, params in enumerate(gs.cv_results_['params']):\n",
    "        r2_train = gs.cv_results_['mean_train_score'][i]\n",
    "        r2_val = gs.cv_results_['mean_test_score'][i]\n",
    "        \n",
    "        # Após GridSearch, avaliar com predição real na validação (para MAE e RMSE)\n",
    "        modelo_temp = gs.estimator.set_params(**params)\n",
    "        modelo_temp.fit(x_train, y_train)\n",
    "        y_pred_val = modelo_temp.predict(x_val)\n",
    "\n",
    "        mae_val = mean_absolute_error(y_val, y_pred_val)\n",
    "        rmse_val = np.sqrt(mean_squared_error(y_val, y_pred_val))\n",
    "\n",
    "        resultados.append({\n",
    "            \"Modelo\": nome_modelo,\n",
    "            \"Configuracao\": params,\n",
    "            \"R2_Train\": r2_train,\n",
    "            \"R2_Val\": r2_val,\n",
    "            \"MAE_Val\": mae_val,\n",
    "            \"RMSE_Val\": rmse_val\n",
    "        })\n",
    "\n",
    "    # Salva os resultados no arquivo JSON\n",
    "    with open(f'data/models_results/{nome_modelo}.json', 'w') as f:\n",
    "        json.dump(resultados, f, indent=4)\n",
    "\n",
    "    return gs.best_estimator_, gs.best_params_\n"
   ]
  },
  {
   "cell_type": "code",
   "execution_count": 23,
   "metadata": {},
   "outputs": [],
   "source": [
    "# chama os df de treino e validação\n",
    "x_train = pd.read_csv('data/processed/x_train_encoded.csv')\n",
    "x_val = pd.read_csv('data/processed/x_validation_encoded.csv')\n",
    "y_train = pd.read_csv('data/processed/y_train.csv').values.ravel()\n",
    "y_val = pd.read_csv('data/processed/y_validation.csv').values.ravel()"
   ]
  },
  {
   "cell_type": "code",
   "execution_count": 15,
   "metadata": {},
   "outputs": [
    {
     "name": "stdout",
     "output_type": "stream",
     "text": [
      "Melhor Configuração RF: {'max_depth': None, 'min_samples_split': 2, 'n_estimators': 100}\n"
     ]
    }
   ],
   "source": [
    "from sklearn.ensemble import RandomForestRegressor\n",
    "\n",
    "parametros_rf = {\n",
    "    \"n_estimators\": [50, 60, 70, 80, 90, 100],\n",
    "    \"max_depth\": [None, 5, 10, 15],\n",
    "    \"min_samples_split\": [2, 5]\n",
    "}\n",
    "\n",
    "best_model_rf, best_params_rf = treinar_e_avaliar(\n",
    "    RandomForestRegressor(random_state=42), \n",
    "    \"RandomForest\", \n",
    "    parametros_rf, \n",
    "    x_train, y_train, x_val, y_val\n",
    ")\n",
    "\n",
    "print(\"Melhor Configuração RF:\", best_params_rf)\n"
   ]
  },
  {
   "cell_type": "code",
   "execution_count": 18,
   "metadata": {},
   "outputs": [
    {
     "name": "stdout",
     "output_type": "stream",
     "text": [
      "{'Modelo': 'Linear Regression', 'R²': 0.8571124093419417, 'MAE': 3.2037454471316242, 'RMSE': 3.9197358475976176}\n"
     ]
    }
   ],
   "source": [
    "from sklearn.linear_model import LinearRegression\n",
    "from sklearn.model_selection import GridSearchCV, KFold\n",
    "from math import sqrt\n",
    "\n",
    "# Função genérica para avaliação\n",
    "def avaliar_modelo(modelo, X_val, y_val, nome_modelo):\n",
    "    y_pred = modelo.predict(X_val)\n",
    "    r2 = r2_score(y_val, y_pred)\n",
    "    mae = mean_absolute_error(y_val, y_pred)\n",
    "    rmse = sqrt(mean_squared_error(y_val, y_pred))\n",
    "    return {\"Modelo\": nome_modelo, \"R²\": r2, \"MAE\": mae, \"RMSE\": rmse}\n",
    "\n",
    "def treinar_linear_regression():\n",
    "    model = LinearRegression()\n",
    "    model.fit(x_train, y_train)\n",
    "    return avaliar_modelo(model, x_val, y_val, \"Linear Regression\")\n",
    "\n",
    "resultados_lr = treinar_linear_regression()\n",
    "print(resultados_lr)"
   ]
  },
  {
   "cell_type": "code",
   "execution_count": 33,
   "metadata": {},
   "outputs": [
    {
     "name": "stdout",
     "output_type": "stream",
     "text": [
      "Melhor Configuração GB: {'learning_rate': 0.1, 'max_depth': 3, 'n_estimators': 200}\n"
     ]
    }
   ],
   "source": [
    "from sklearn.ensemble import GradientBoostingRegressor\n",
    "\n",
    "parametros_gb = {\n",
    "    \"n_estimators\": [100, 150, 200, 250, 300],\n",
    "    \"learning_rate\": [0.05, 0.1],\n",
    "    \"max_depth\": [3, 5]\n",
    "}\n",
    "\n",
    "best_model_gb, best_params_gb = treinar_e_avaliar(\n",
    "    GradientBoostingRegressor(random_state=42),\n",
    "    \"Gradient Boosting\",\n",
    "    parametros_gb,\n",
    "    x_train, y_train,\n",
    "    x_val, y_val\n",
    ")\n",
    "print(\"Melhor Configuração GB:\", best_params_gb)"
   ]
  },
  {
   "cell_type": "code",
   "execution_count": 35,
   "metadata": {},
   "outputs": [
    {
     "name": "stdout",
     "output_type": "stream",
     "text": [
      "Melhor Configuração MLP: {'activation': 'relu', 'hidden_layer_sizes': (100,), 'learning_rate_init': 0.001}\n"
     ]
    }
   ],
   "source": [
    "from sklearn.neural_network import MLPRegressor\n",
    "\n",
    "parametros_mlp = {\n",
    "    \"hidden_layer_sizes\": [(50,), (100,), (50,50), (25,50), (25,15,10)],\n",
    "    \"activation\": [\"relu\", \"tanh\"],\n",
    "    \"learning_rate_init\": [0.001, 0.01]\n",
    "}\n",
    "\n",
    "best_model_mlp, best_params_mlp = treinar_e_avaliar(\n",
    "    MLPRegressor(max_iter=10000, random_state=42),\n",
    "    \"MLP\",\n",
    "    parametros_mlp,\n",
    "    x_train, y_train,\n",
    "    x_val, y_val\n",
    ")\n",
    "print(\"Melhor Configuração MLP:\", best_params_mlp)"
   ]
  },
  {
   "cell_type": "code",
   "execution_count": 34,
   "metadata": {},
   "outputs": [
    {
     "name": "stdout",
     "output_type": "stream",
     "text": [
      "Melhor Configuração KNN: {'n_neighbors': 12, 'weights': 'distance'}\n"
     ]
    }
   ],
   "source": [
    "from sklearn.neighbors import KNeighborsRegressor\n",
    "\n",
    "parametros_knn = {\n",
    "    \"n_neighbors\": [3, 5, 7, 9, 10, 12, 15],\n",
    "    \"weights\": [\"uniform\", \"distance\"]\n",
    "}\n",
    "\n",
    "best_model_knn, best_params_knn = treinar_e_avaliar(\n",
    "    KNeighborsRegressor(),\n",
    "    \"KNN\",\n",
    "    parametros_knn,\n",
    "    x_train, y_train,\n",
    "    x_val, y_val\n",
    ")\n",
    "print(\"Melhor Configuração KNN:\", best_params_knn)"
   ]
  },
  {
   "cell_type": "code",
   "execution_count": null,
   "metadata": {},
   "outputs": [],
   "source": [
    "from lightgbm import LGBMRegressor\n",
    "\n",
    "parametros_lgbm = {\n",
    "    \"n_estimators\": [50, 100, 150, 200, 250, 300],\n",
    "    \"num_leaves\": [31, 50, ],\n",
    "    \"learning_rate\": [0.001, 0.01, 0.1, 1],\n",
    "    \"max_depth\": [-1, 5, 10]\n",
    "}\n",
    "\n",
    "best_model_lgbm, best_params_lgbm = treinar_e_avaliar(\n",
    "    LGBMRegressor(random_state=42),\n",
    "    \"LightGBM\",\n",
    "    parametros_lgbm,\n",
    "    x_train, y_train,\n",
    "    x_val, y_val\n",
    ")"
   ]
  },
  {
   "cell_type": "code",
   "execution_count": null,
   "metadata": {},
   "outputs": [
    {
     "name": "stdout",
     "output_type": "stream",
     "text": [
      "Melhor Configuração LGBM: {'learning_rate': 0.1, 'max_depth': 5, 'n_estimators': 300, 'num_leaves': 50}\n"
     ]
    }
   ],
   "source": [
    "print(\"Melhor Configuração LGBM:\", best_params_lgbm)"
   ]
  },
  {
   "cell_type": "code",
   "execution_count": null,
   "metadata": {},
   "outputs": [],
   "source": [
    "from xgboost import XGBRegressor\n",
    "\n",
    "parametros_xgb = {\n",
    "    \"n_estimators\": [100, 150, 200, 250, 300],\n",
    "    \"max_depth\": [3, 5, 7, 10, 20],\n",
    "    \"learning_rate\": [0.001, 0.01, 0.1],\n",
    "    \"subsample\": [0.8, 1.0],\n",
    "    \"colsample_bytree\": [0.8, 1.0]\n",
    "}\n",
    "\n",
    "best_model_xgb, best_params_xgb = treinar_e_avaliar(\n",
    "    XGBRegressor(random_state=42, n_jobs=-1),\n",
    "    \"XGBoost\",\n",
    "    parametros_xgb,\n",
    "    x_train, y_train,\n",
    "    x_val, y_val\n",
    ")"
   ]
  },
  {
   "cell_type": "code",
   "execution_count": null,
   "metadata": {},
   "outputs": [
    {
     "name": "stdout",
     "output_type": "stream",
     "text": [
      "Melhor Configuração XGB: {'colsample_bytree': 1.0, 'learning_rate': 0.1, 'max_depth': 3, 'n_estimators': 300, 'subsample': 0.8}\n"
     ]
    }
   ],
   "source": [
    "print(\"Melhor Configuração XGB:\", best_params_xgb)"
   ]
  }
 ],
 "metadata": {
  "kernelspec": {
   "display_name": "Python 3",
   "language": "python",
   "name": "python3"
  },
  "language_info": {
   "codemirror_mode": {
    "name": "ipython",
    "version": 3
   },
   "file_extension": ".py",
   "mimetype": "text/x-python",
   "name": "python",
   "nbconvert_exporter": "python",
   "pygments_lexer": "ipython3",
   "version": "3.12.7"
  }
 },
 "nbformat": 4,
 "nbformat_minor": 2
}
